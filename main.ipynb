{
 "cells": [
  {
   "cell_type": "markdown",
   "metadata": {},
   "source": [
    "## Imports"
   ]
  },
  {
   "cell_type": "code",
   "execution_count": 6,
   "metadata": {},
   "outputs": [
    {
     "name": "stdout",
     "output_type": "stream",
     "text": [
      "24\n",
      "0.0200000000000000\n",
      "f(x) = 6*x\n",
      "f(x) = 45*x**2 + 36*x\n"
     ]
    }
   ],
   "source": [
    "from ipynb.fs.full.Residual import *\n",
    "from ipynb.fs.full.Jacobian import *\n",
    "\n",
    "import numpy as np\n",
    "from numpy import linalg as LA\n",
    "import sympy as sp\n",
    "#import matplotlib.pyplot as plt"
   ]
  },
  {
   "cell_type": "markdown",
   "metadata": {},
   "source": [
    "## Global Variables"
   ]
  },
  {
   "cell_type": "code",
   "execution_count": 7,
   "metadata": {},
   "outputs": [],
   "source": [
    "#Time variables\n",
    "interval = 10\n",
    "\n",
    "#Number represent how far we want to be precised.\n",
    "Epsilon = 10**-2"
   ]
  },
  {
   "cell_type": "markdown",
   "metadata": {},
   "source": [
    "## Main Function"
   ]
  },
  {
   "cell_type": "code",
   "execution_count": 111,
   "metadata": {},
   "outputs": [],
   "source": [
    "def FirstModel(vec, lg):\n",
    "    step = 0\n",
    "    #lg = 4\n",
    "    \n",
    "    x0 = 1.0\n",
    "    tab_xk = np.array([0., 0., 0., 0.])\n",
    "    tab_fxk = np.array([0., 0., 0., 0.])\n",
    "    residu = 0\n",
    "    \n",
    "    #Loop for the time\n",
    "    while(step < 3):\n",
    "        \n",
    "        #Newton's method\n",
    "        while(x0 >= Epsilon):\n",
    "            for i in range(lg):\n",
    "                #Find the next x for each equations. \n",
    "                fxk = evaluate(x0, vec[i])\n",
    "                fxk_prime = evaluate(x0, Jacobian_one(vec[i]))\n",
    "                tab_xk[i] = x0 - (float(fxk) / float(fxk_prime))\n",
    "                \n",
    "                print(\"i = \", end='')\n",
    "                print(i)\n",
    "                print(fxk)\n",
    "                print(fxk_prime)\n",
    "                print(float(fxk) / float(fxk_prime))\n",
    "                \n",
    "                \n",
    "                print(tab_xk)\n",
    "                print(\"----------\")\n",
    "                \n",
    "                \n",
    "                #Evaluate each x on their respective functions\n",
    "                tab_fxk[i] = evaluate(tab_xk[i], vec[i])\n",
    "                \n",
    "            \n",
    "            #Calculate the norm.\n",
    "            #norm = LA.norm(tab_fxk[0])\n",
    "            #print(\"norme = \", end='')\n",
    "            #print(norm)\n",
    "            x0=tab_fxk[0] - x0\n",
    "            print(\"x0 = \", end='')\n",
    "            print(x0)\n",
    "        step+=1\n",
    "    \n",
    "    return tab_xk"
   ]
  },
  {
   "cell_type": "code",
   "execution_count": null,
   "metadata": {},
   "outputs": [],
   "source": []
  },
  {
   "cell_type": "markdown",
   "metadata": {},
   "source": [
    "# Unitary tests"
   ]
  },
  {
   "cell_type": "code",
   "execution_count": 112,
   "metadata": {},
   "outputs": [
    {
     "name": "stdout",
     "output_type": "stream",
     "text": [
      "i = 0\n",
      "5.00000000000000\n",
      "3\n",
      "1.6666666666666667\n",
      "[-0.66666667  0.          0.          0.        ]\n",
      "----------\n",
      "i = 1\n",
      "3.00000000000000\n",
      "2\n",
      "1.5\n",
      "[-0.66666667 -0.5         0.          0.        ]\n",
      "----------\n",
      "i = 2\n",
      "4.00000000000000\n",
      "1\n",
      "4.0\n",
      "[-0.66666667 -0.5        -3.          0.        ]\n",
      "----------\n",
      "i = 3\n",
      "5.00000000000000\n",
      "1\n",
      "5.0\n",
      "[-0.66666667 -0.5        -3.         -4.        ]\n",
      "----------\n",
      "x0 = -1.0\n",
      "[-0.66666667 -0.5        -3.         -4.        ]\n"
     ]
    }
   ],
   "source": [
    "vec = [3*x + 2, 2*x + 1, x + 3, x + 4]\n",
    "res = FirstModel(vec,4)\n",
    "print(res)"
   ]
  },
  {
   "cell_type": "code",
   "execution_count": 115,
   "metadata": {},
   "outputs": [
    {
     "name": "stdout",
     "output_type": "stream",
     "text": [
      "i = 0\n",
      "8.00000000000000\n",
      "17.0000000000000\n",
      "0.47058823529411764\n",
      "[0.52941176 0.         0.         0.        ]\n",
      "----------\n",
      "x0 = 0.9018929371056386\n",
      "i = 0\n",
      "6.42559704849153\n",
      "15.1244837042206\n",
      "0.42484736498465847\n",
      "[0.47704557 0.         0.         0.        ]\n",
      "----------\n",
      "x0 = 0.51364030222857\n",
      "i = 0\n",
      "1.75220372741686\n",
      "9.40171784511825\n",
      "0.18637059272382578\n",
      "[0.32726971 0.         0.         0.        ]\n",
      "----------\n",
      "x0 = -0.3377594613899435\n",
      "[0.32726971 0.         0.         0.        ]\n"
     ]
    }
   ],
   "source": [
    "vec = [3*x**3-2+6*x + x**2]\n",
    "res = FirstModel(vec, 1)\n",
    "print(res)"
   ]
  },
  {
   "cell_type": "code",
   "execution_count": null,
   "metadata": {},
   "outputs": [],
   "source": []
  }
 ],
 "metadata": {
  "kernelspec": {
   "display_name": "Python 3 (ipykernel)",
   "language": "python",
   "name": "python3"
  },
  "language_info": {
   "codemirror_mode": {
    "name": "ipython",
    "version": 3
   },
   "file_extension": ".py",
   "mimetype": "text/x-python",
   "name": "python",
   "nbconvert_exporter": "python",
   "pygments_lexer": "ipython3",
   "version": "3.8.5"
  }
 },
 "nbformat": 4,
 "nbformat_minor": 4
}
