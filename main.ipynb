{
 "cells": [
  {
   "cell_type": "markdown",
   "metadata": {},
   "source": [
    "## Imports"
   ]
  },
  {
   "cell_type": "code",
   "execution_count": 35,
   "metadata": {},
   "outputs": [],
   "source": [
    "from ipynb.fs.full.Residual import *\n",
    "from ipynb.fs.full.Jacobian import *\n",
    "\n",
    "import numpy as np\n",
    "from numpy import linalg as LA\n",
    "import sympy as sp"
   ]
  },
  {
   "cell_type": "markdown",
   "metadata": {},
   "source": [
    "## Global Variables"
   ]
  },
  {
   "cell_type": "code",
   "execution_count": 36,
   "metadata": {},
   "outputs": [],
   "source": [
    "#Time variables\n",
    "interval = 10\n",
    "\n",
    "#Number represent how far we want to be precised.\n",
    "Epsilon = 10**-2"
   ]
  },
  {
   "cell_type": "markdown",
   "metadata": {},
   "source": [
    "## Main Function"
   ]
  },
  {
   "cell_type": "code",
   "execution_count": 53,
   "metadata": {},
   "outputs": [],
   "source": [
    "def FirstModel(vec):\n",
    "    step = 0\n",
    "    lg = 4\n",
    "    \n",
    "    x0 = 1\n",
    "    xk = [0] * lg\n",
    "    residu = 0\n",
    "    \n",
    "    #Loop for the time\n",
    "    while(step < interval):\n",
    "        \n",
    "        #Newton's method\n",
    "        while(x0 >= Epsilon):\n",
    "            for i in range(lg):\n",
    "                #Find the next x for each equations.\n",
    "                xk[i] = x0 - residual(x0,vec[i]) / residual(x0,Jacobian_one(vec[i]))\n",
    "                \n",
    "                #Evaluate each x on their respective functions\n",
    "                xk[i] = residual(xk[i], vec[i])\n",
    "                \n",
    "            #Convert into an array\n",
    "            xk_vec = np.asarray(xk)\n",
    "            #Calculate the norm.\n",
    "            #x0 = LA.norm(xk_vec)\n",
    "            x0-=0.1\n",
    "\n",
    "        \n",
    "        step+=1\n",
    "    \n",
    "    return xk"
   ]
  },
  {
   "cell_type": "markdown",
   "metadata": {},
   "source": [
    "# Unitary tests"
   ]
  },
  {
   "cell_type": "code",
   "execution_count": 54,
   "metadata": {},
   "outputs": [
    {
     "name": "stdout",
     "output_type": "stream",
     "text": [
      "[0.00750000000000002, 0, 0.00250000000000001, 0]\n"
     ]
    }
   ],
   "source": [
    "vec = [3*x**2, 2*x, x**2, 1+x]\n",
    "res = FirstModel(vec)\n",
    "print(res)"
   ]
  },
  {
   "cell_type": "code",
   "execution_count": null,
   "metadata": {},
   "outputs": [],
   "source": []
  }
 ],
 "metadata": {
  "kernelspec": {
   "display_name": "Python 3 (ipykernel)",
   "language": "python",
   "name": "python3"
  },
  "language_info": {
   "codemirror_mode": {
    "name": "ipython",
    "version": 3
   },
   "file_extension": ".py",
   "mimetype": "text/x-python",
   "name": "python",
   "nbconvert_exporter": "python",
   "pygments_lexer": "ipython3",
   "version": "3.8.5"
  }
 },
 "nbformat": 4,
 "nbformat_minor": 4
}
