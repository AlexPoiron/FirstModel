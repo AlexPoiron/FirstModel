{
 "cells": [
  {
   "cell_type": "markdown",
   "id": "4ed52af5",
   "metadata": {},
   "source": [
    "## Imports"
   ]
  },
  {
   "cell_type": "code",
   "execution_count": 1,
   "id": "ed6db769",
   "metadata": {},
   "outputs": [
    {
     "name": "stdout",
     "output_type": "stream",
     "text": [
      "24\n",
      "0.0200000000000000\n",
      "f(x) = 6*x\n",
      "f(x) = 45*x**2 + 36*x\n"
     ]
    }
   ],
   "source": [
    "from ipynb.fs.full.Residual import *\n",
    "from ipynb.fs.full.Jacobian import *\n",
    "\n",
    "import numpy as np\n",
    "from numpy import linalg as LA\n",
    "import sympy as sp\n",
    "\n",
    "import matplotlib.pyplot as plt\n",
    "import math"
   ]
  },
  {
   "cell_type": "markdown",
   "id": "66c3ccee",
   "metadata": {},
   "source": [
    "## Global Variables"
   ]
  },
  {
   "cell_type": "code",
   "execution_count": 30,
   "id": "2af324ac",
   "metadata": {},
   "outputs": [],
   "source": [
    "#Time variables\n",
    "interval = 3\n",
    "delta = 0.1\n",
    "\n",
    "#Number represent how far we want to be precised.\n",
    "Epsilon = 10**-2"
   ]
  },
  {
   "cell_type": "markdown",
   "id": "d227115d",
   "metadata": {},
   "source": [
    "## Main Program"
   ]
  },
  {
   "cell_type": "code",
   "execution_count": 37,
   "id": "478a46c4",
   "metadata": {},
   "outputs": [],
   "source": [
    "def function_f(uk, uk_1, expr, first):\n",
    "    f_uk = 0\n",
    "    \n",
    "    #First call of this function\n",
    "    if(first):\n",
    "        f_uk = evaluate(uk, expr)\n",
    "    else:\n",
    "        f_uk = (uk - uk_1 / delta) - evaluate(uk, expr)\n",
    "    \n",
    "    return f_uk\n",
    "    "
   ]
  },
  {
   "cell_type": "code",
   "execution_count": 38,
   "id": "90794ce4",
   "metadata": {},
   "outputs": [],
   "source": [
    "\"\"\"\n",
    "    FirstModel(vec, lg): return an approximation of zero of a \n",
    "    function following the Newton's method.\n",
    "    \n",
    "    params: - vec : a vector contaning equations (system).\n",
    "            - lg : vector's size.\n",
    "            - x0 : initial x we want to start.\n",
    "    \n",
    "    return: the approximation calculated.\n",
    "\"\"\"\n",
    "\n",
    "\n",
    "def FirstModel(expr, u0):\n",
    "    t0 = 0\n",
    "    first = True\n",
    "    f_uk = 1\n",
    "    uk_1 = 1\n",
    "    res = [u0]\n",
    "    i = 1\n",
    "    time = [t0]\n",
    "    \n",
    "    #Loop for the time\n",
    "    while(t0 < interval):\n",
    "        t0 += delta\n",
    "        \n",
    "        #Newton's method\n",
    "        while(f_uk > Epsilon):\n",
    "            \n",
    "            f_uk_1 = 0\n",
    "            f_uk_1_prime = 0\n",
    "            \n",
    "            # We recup the term f(uk-1)\n",
    "            if(first):\n",
    "                f_uk_1 = function_f(uk_1, uk_1, expr, first)\n",
    "                first = False\n",
    "            \n",
    "            else:\n",
    "                f_uk_1 = function_f(uk_1, res[i-1], expr, False)\n",
    "             \n",
    "            #We recup the term f'(uk_1)\n",
    "            f_uk_1_prime = evaluate(uk_1, Jacobian_one(f_uk_1))\n",
    "            \n",
    "            #Formula : uk = uk_1 - (f(uk_1) / f'(uk_1))\n",
    "            uk = uk_1 - (f_uk_1 / f_uk_1_prime)\n",
    "            \n",
    "            #Check the approximation. If f_uk < Epsilon = good approximation\n",
    "            f_uk = function_f(uk, uk_1, expr, False)\n",
    "                \n",
    "            \n",
    "        time.append(t0)\n",
    "        res.append(uk)\n",
    "        approxim = 1\n",
    "        i += 1\n",
    "    \n",
    "    final_points = []\n",
    "    for i in range(len(res)):\n",
    "        final_points.append([time[i], res[i]])\n",
    "        \n",
    "    print(\"The approximation is = \", end='')\n",
    "    return final_points"
   ]
  },
  {
   "cell_type": "code",
   "execution_count": null,
   "id": "3ffcf3a9",
   "metadata": {},
   "outputs": [],
   "source": [
    "\n"
   ]
  },
  {
   "cell_type": "markdown",
   "id": "a225f521",
   "metadata": {},
   "source": [
    "## Unitary tests\n",
    "### Tests with only one equation."
   ]
  },
  {
   "cell_type": "code",
   "execution_count": 39,
   "id": "669612aa",
   "metadata": {},
   "outputs": [
    {
     "ename": "TypeError",
     "evalue": "cannot determine truth value of Relational",
     "output_type": "error",
     "traceback": [
      "\u001b[0;31m---------------------------------------------------------------------------\u001b[0m",
      "\u001b[0;31mTypeError\u001b[0m                                 Traceback (most recent call last)",
      "\u001b[0;32m/tmp/ipykernel_12254/3561630760.py\u001b[0m in \u001b[0;36m<module>\u001b[0;34m\u001b[0m\n\u001b[1;32m      4\u001b[0m \u001b[0mdydt\u001b[0m \u001b[0;34m=\u001b[0m \u001b[0mu\u001b[0m\u001b[0;34m.\u001b[0m\u001b[0mdiff\u001b[0m\u001b[0;34m(\u001b[0m\u001b[0mt\u001b[0m\u001b[0;34m)\u001b[0m\u001b[0;34m\u001b[0m\u001b[0;34m\u001b[0m\u001b[0m\n\u001b[1;32m      5\u001b[0m \u001b[0mexpr\u001b[0m \u001b[0;34m=\u001b[0m \u001b[0msp\u001b[0m\u001b[0;34m.\u001b[0m\u001b[0mEq\u001b[0m\u001b[0;34m(\u001b[0m\u001b[0mdydt\u001b[0m\u001b[0;34m,\u001b[0m \u001b[0;34m-\u001b[0m\u001b[0mu\u001b[0m\u001b[0;34m)\u001b[0m\u001b[0;34m\u001b[0m\u001b[0;34m\u001b[0m\u001b[0m\n\u001b[0;32m----> 6\u001b[0;31m \u001b[0mFirstModel\u001b[0m\u001b[0;34m(\u001b[0m\u001b[0;34m-\u001b[0m\u001b[0mu\u001b[0m\u001b[0;34m,\u001b[0m \u001b[0;36m3\u001b[0m\u001b[0;34m)\u001b[0m\u001b[0;34m\u001b[0m\u001b[0;34m\u001b[0m\u001b[0m\n\u001b[0m",
      "\u001b[0;32m/tmp/ipykernel_12254/2309099568.py\u001b[0m in \u001b[0;36mFirstModel\u001b[0;34m(expr, u0)\u001b[0m\n\u001b[1;32m     25\u001b[0m \u001b[0;34m\u001b[0m\u001b[0m\n\u001b[1;32m     26\u001b[0m         \u001b[0;31m#Newton's method\u001b[0m\u001b[0;34m\u001b[0m\u001b[0;34m\u001b[0m\u001b[0;34m\u001b[0m\u001b[0m\n\u001b[0;32m---> 27\u001b[0;31m         \u001b[0;32mwhile\u001b[0m\u001b[0;34m(\u001b[0m\u001b[0mf_uk\u001b[0m \u001b[0;34m>\u001b[0m \u001b[0mEpsilon\u001b[0m\u001b[0;34m)\u001b[0m\u001b[0;34m:\u001b[0m\u001b[0;34m\u001b[0m\u001b[0;34m\u001b[0m\u001b[0m\n\u001b[0m\u001b[1;32m     28\u001b[0m \u001b[0;34m\u001b[0m\u001b[0m\n\u001b[1;32m     29\u001b[0m             \u001b[0mf_uk_1\u001b[0m \u001b[0;34m=\u001b[0m \u001b[0;36m0\u001b[0m\u001b[0;34m\u001b[0m\u001b[0;34m\u001b[0m\u001b[0m\n",
      "\u001b[0;32m~/.local/lib/python3.8/site-packages/sympy/core/relational.py\u001b[0m in \u001b[0;36m__bool__\u001b[0;34m(self)\u001b[0m\n\u001b[1;32m    396\u001b[0m \u001b[0;34m\u001b[0m\u001b[0m\n\u001b[1;32m    397\u001b[0m     \u001b[0;32mdef\u001b[0m \u001b[0m__bool__\u001b[0m\u001b[0;34m(\u001b[0m\u001b[0mself\u001b[0m\u001b[0;34m)\u001b[0m\u001b[0;34m:\u001b[0m\u001b[0;34m\u001b[0m\u001b[0;34m\u001b[0m\u001b[0m\n\u001b[0;32m--> 398\u001b[0;31m         \u001b[0;32mraise\u001b[0m \u001b[0mTypeError\u001b[0m\u001b[0;34m(\u001b[0m\u001b[0;34m\"cannot determine truth value of Relational\"\u001b[0m\u001b[0;34m)\u001b[0m\u001b[0;34m\u001b[0m\u001b[0;34m\u001b[0m\u001b[0m\n\u001b[0m\u001b[1;32m    399\u001b[0m \u001b[0;34m\u001b[0m\u001b[0m\n\u001b[1;32m    400\u001b[0m     \u001b[0;32mdef\u001b[0m \u001b[0m_eval_as_set\u001b[0m\u001b[0;34m(\u001b[0m\u001b[0mself\u001b[0m\u001b[0;34m)\u001b[0m\u001b[0;34m:\u001b[0m\u001b[0;34m\u001b[0m\u001b[0;34m\u001b[0m\u001b[0m\n",
      "\u001b[0;31mTypeError\u001b[0m: cannot determine truth value of Relational"
     ]
    }
   ],
   "source": [
    "sp.init_printing()\n",
    "t = sp.symbols('t')\n",
    "u = sp.Function('u')(t)\n",
    "dydt = u.diff(t)\n",
    "expr = sp.Eq(dydt, -u)\n",
    "FirstModel(-u, 3)"
   ]
  },
  {
   "cell_type": "code",
   "execution_count": 20,
   "id": "50397822",
   "metadata": {},
   "outputs": [
    {
     "data": {
      "image/png": "[encoded data removed]",
      "text/plain": [
       "<Figure size 432x288 with 1 Axes>"
      ]
     },
     "metadata": {
      "needs_background": "light"
     },
     "output_type": "display_data"
    },
    {
     "name": "stdout",
     "output_type": "stream",
     "text": [
      "The approximation is = [[0, 10], [0.1, 6.926923076923076], [0.2, 4.901744585381556], [0.30000000000000004, 3.5921419992843013], [0.4, 2.7892387115023407], [0.5, 2.3673123903374425], [0.6, 2.2231691693981057], [0.7, 2.2058122254864885], [0.7999999999999999, 2.2055694775431514], [0.8999999999999999, 2.205569430400592], [0.9999999999999999, 2.2055694304005904], [1.0999999999999999, 2.2055694304005904], [1.2, 2.2055694304005904], [1.3, 2.2055694304005904], [1.4000000000000001, 2.2055694304005904], [1.5000000000000002, 2.2055694304005904], [1.6000000000000003, 2.2055694304005904], [1.7000000000000004, 2.2055694304005904], [1.8000000000000005, 2.2055694304005904], [1.9000000000000006, 2.2055694304005904], [2.0000000000000004, 2.2055694304005904], [2.1000000000000005, 2.2055694304005904], [2.2000000000000006, 2.2055694304005904], [2.3000000000000007, 2.2055694304005904], [2.400000000000001, 2.2055694304005904], [2.500000000000001, 2.2055694304005904], [2.600000000000001, 2.2055694304005904], [2.700000000000001, 2.2055694304005904], [2.800000000000001, 2.2055694304005904], [2.9000000000000012, 2.2055694304005904], [3.0000000000000013, 2.2055694304005904]]\n"
     ]
    },
    {
     "data": {
      "text/plain": [
       "<matplotlib.collections.PathCollection at 0x7fa4ddf0d820>"
      ]
     },
     "execution_count": 20,
     "metadata": {},
     "output_type": "execute_result"
    },
    {
     "data": {
      "image/png": "[encoded data removed]",
      "text/plain": [
       "<Figure size 432x288 with 1 Axes>"
      ]
     },
     "metadata": {
      "needs_background": "light"
     },
     "output_type": "display_data"
    }
   ],
   "source": [
    "fig, ax = plt.subplots()\n",
    "x_ = np.linspace(-5, 5)\n",
    "y = 2*x_**2 - x_**3 + 1\n",
    "zero = 0*x_\n",
    "ax.plot(x_, y, label ='f(x)')\n",
    "ax.plot(x_, zero, label = 'Abscisses')\n",
    "plt.legend()  \n",
    "fig.suptitle('Function : 2x^2 - x^3 + 1')\n",
    "plt.show()\n",
    "\n",
    "vec = 2*x**2 - x**3 + 1\n",
    "res = FirstModel(vec, 10)\n",
    "print(res)\n",
    "absi = []\n",
    "for i in range(0, len(res)):\n",
    "    absi.append(res[i][0])\n",
    "coords = []\n",
    "for j in range(0, len(res)):\n",
    "    coords.append(res[j][1])\n",
    "\n",
    "plt.ylim([-10, 10])\n",
    "plt.xlim([0, 3])\n",
    "plt.scatter(absi, coords)\n",
    "\n"
   ]
  },
  {
   "cell_type": "code",
   "execution_count": 23,
   "id": "a3a407f6",
   "metadata": {},
   "outputs": [
    {
     "data": {
      "image/png": "[encoded data removed]",
      "text/plain": [
       "<Figure size 432x288 with 1 Axes>"
      ]
     },
     "metadata": {
      "needs_background": "light"
     },
     "output_type": "display_data"
    },
    {
     "name": "stdout",
     "output_type": "stream",
     "text": [
      "The approximation is = [[0, 1], [0.1, 0.5625], [0.2, 0.2792725797728502], [0.30000000000000004, 0.1079673297857783], [0.4, 0.024260767984329315], [0.5, 0.0016087349489681373], [0.6, 7.714422661595638e-06], [0.7, 1.7853144192563346e-10], [0.7999999999999999, 9.562042444990489e-20], [0.8999999999999999, 0.0], [0.9999999999999999, 0.0], [1.0999999999999999, 0.0], [1.2, 0.0], [1.3, 0.0], [1.4000000000000001, 0.0], [1.5000000000000002, 0.0], [1.6000000000000003, 0.0], [1.7000000000000004, 0.0], [1.8000000000000005, 0.0], [1.9000000000000006, 0.0], [2.0000000000000004, 0.0], [2.1000000000000005, 0.0], [2.2000000000000006, 0.0], [2.3000000000000007, 0.0], [2.400000000000001, 0.0], [2.500000000000001, 0.0], [2.600000000000001, 0.0], [2.700000000000001, 0.0], [2.800000000000001, 0.0], [2.9000000000000012, 0.0], [3.0000000000000013, 0.0]]\n"
     ]
    },
    {
     "data": {
      "text/plain": [
       "<matplotlib.collections.PathCollection at 0x7fa4de0b7b80>"
      ]
     },
     "execution_count": 23,
     "metadata": {},
     "output_type": "execute_result"
    },
    {
     "data": {
      "image/png": "[encoded data removed]",
      "text/plain": [
       "<Figure size 432x288 with 1 Axes>"
      ]
     },
     "metadata": {
      "needs_background": "light"
     },
     "output_type": "display_data"
    }
   ],
   "source": [
    "fig, ax = plt.subplots()\n",
    "x_ = np.linspace(-5, 5)\n",
    "y = 15*x_**(2) + 5*x_+ 15*x_**(3)\n",
    "zero = 0*x_\n",
    "ax.plot(x_, y, label ='f(x)')\n",
    "ax.plot(x_, zero, label = 'Abscisses')\n",
    "plt.legend()  \n",
    "fig.suptitle('Function : 15 x^2+5 x+15 x^3')\n",
    "plt.show()\n",
    "\n",
    "vec = 15*x**(2) + 5*x + 15*x**(3)\n",
    "res = FirstModel(vec, 1)\n",
    "print(res)\n",
    "\n",
    "absi = []\n",
    "for i in range(0, len(res)):\n",
    "    absi.append(res[i][0])\n",
    "coords = []\n",
    "for j in range(0, len(res)):\n",
    "    coords.append(res[j][1])\n",
    "\n",
    "plt.ylim([-10, 10])\n",
    "plt.xlim([0, 3])\n",
    "plt.scatter(absi, coords)\n"
   ]
  },
  {
   "cell_type": "code",
   "execution_count": null,
   "id": "3f4169e4",
   "metadata": {
    "scrolled": true
   },
   "outputs": [],
   "source": [
    "fig, ax = plt.subplots()\n",
    "x_ = np.linspace(-5, 5)\n",
    "y = np.cos(x_) - x_**3\n",
    "zero = 0*x_\n",
    "ax.plot(x_, y, label ='f(x)')\n",
    "ax.plot(x_, zero, label = 'Abscisses')\n",
    "plt.legend()  \n",
    "fig.suptitle('Wikipedia example : cos(x) - x^3 = 0')\n",
    "plt.show()\n",
    "\n",
    "vec = sp.cos(x) - x**3\n",
    "res = FirstModel(vec, 1, 3)\n",
    "print(res)"
   ]
  },
  {
   "cell_type": "code",
   "execution_count": null,
   "id": "756c35e5",
   "metadata": {},
   "outputs": [],
   "source": []
  },
  {
   "cell_type": "code",
   "execution_count": null,
   "id": "66e377f7",
   "metadata": {},
   "outputs": [],
   "source": []
  },
  {
   "cell_type": "code",
   "execution_count": null,
   "id": "5c394318",
   "metadata": {},
   "outputs": [],
   "source": []
  },
  {
   "cell_type": "code",
   "execution_count": null,
   "id": "819b4b41",
   "metadata": {},
   "outputs": [],
   "source": []
  }
 ],
 "metadata": {
  "kernelspec": {
   "display_name": "Python 3 (ipykernel)",
   "language": "python",
   "name": "python3"
  },
  "language_info": {
   "codemirror_mode": {
    "name": "ipython",
    "version": 3
   },
   "file_extension": ".py",
   "mimetype": "text/x-python",
   "name": "python",
   "nbconvert_exporter": "python",
   "pygments_lexer": "ipython3",
   "version": "3.8.5"
  }
 },
 "nbformat": 4,
 "nbformat_minor": 5
}
