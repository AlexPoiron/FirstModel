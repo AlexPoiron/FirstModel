{
 "cells": [
  {
   "cell_type": "markdown",
   "id": "4ed52af5",
   "metadata": {},
   "source": [
    "## Imports"
   ]
  },
  {
   "cell_type": "code",
   "execution_count": 1,
   "id": "ed6db769",
   "metadata": {},
   "outputs": [],
   "source": [
    "from ipynb.fs.full.Jacobian import *\n",
    "\n",
    "import numpy as np\n",
    "from numpy import linalg as LA\n",
    "import sympy as sp\n",
    "\n",
    "import matplotlib.pyplot as plt\n",
    "import math"
   ]
  },
  {
   "cell_type": "markdown",
   "id": "66c3ccee",
   "metadata": {},
   "source": [
    "## Global Variables"
   ]
  },
  {
   "cell_type": "code",
   "execution_count": 153,
   "id": "2af324ac",
   "metadata": {},
   "outputs": [],
   "source": [
    "#Time variables\n",
    "interval = 10\n",
    "delta = 0.01\n",
    "\n",
    "#Numbers represent how far we want to be precised.\n",
    "Epsilon = 10**-2\n",
    "Nnewton = 10"
   ]
  },
  {
   "cell_type": "markdown",
   "id": "97d3c7a1",
   "metadata": {},
   "source": [
    "## Transitionals functions\n",
    "### Solver with one equation"
   ]
  },
  {
   "cell_type": "code",
   "execution_count": 3,
   "id": "b1bd6f20",
   "metadata": {},
   "outputs": [],
   "source": [
    "\"\"\"\n",
    "    Create the function f wich correspond to this equality : du/dt = expr(u, v). \n",
    "    Here du/dt -> un - un-1 / delta\n",
    "    \n",
    "    @return: the new function ready to be evaluated.\n",
    "    \n",
    "    @var: the symbol we want to evalute (u or v)\n",
    "    @term_1: the previous term\n",
    "    @expr: the function tied.\n",
    "\"\"\"\n",
    "\n",
    "def create_f(var, term_1, expr):\n",
    "    return (var - term_1)/delta - expr"
   ]
  },
  {
   "cell_type": "code",
   "execution_count": 4,
   "id": "5fc59290",
   "metadata": {},
   "outputs": [],
   "source": [
    "\"\"\"\n",
    "    Create a list like that : [[t0, u0], [t1, u1], ..., [tn, un]]\n",
    "\n",
    "    @return: [[t0, u0], [t1, u1], ..., [tn, un]]\n",
    "    \n",
    "    @time: [t0, t1, ...]\n",
    "    @function: [u0, u1, ...]\n",
    "\"\"\"\n",
    "\n",
    "def result_one_eq(time, function):\n",
    "    final_points = []\n",
    "    for i in range(len(function)):\n",
    "        final_points.append([time[i], function[i]])\n",
    "        \n",
    "    return final_points"
   ]
  },
  {
   "cell_type": "markdown",
   "id": "15eb8284",
   "metadata": {},
   "source": [
    "### Solver with 2 equations"
   ]
  },
  {
   "cell_type": "code",
   "execution_count": 14,
   "id": "c06b1e96",
   "metadata": {},
   "outputs": [],
   "source": [
    "\"\"\"\n",
    "    Same as create_f. The only difference is that this time we \n",
    "    keep it in a vector cause we have two different functions.\n",
    "    \n",
    "    @return: a vector containing the 2 new functions ready to be evaluated.\n",
    "    \n",
    "    @xk_1: previous term\n",
    "    @f1: first function\n",
    "    @f2 second function\n",
    "\"\"\"\n",
    "\n",
    "def create_2_f(xn_1_global, f1, f2):\n",
    "    return np.array([create_f(u, xn_1_global[0], f1), create_f(v, xn_1_global[1], f2)])"
   ]
  },
  {
   "cell_type": "code",
   "execution_count": 53,
   "id": "a271028e",
   "metadata": {},
   "outputs": [],
   "source": [
    "\"\"\"\n",
    "    Create the 2x2 matrix wich correspond to the derivate of F(xk) \n",
    "    when xk is vector like xk = (f1, f2).\n",
    "    This matrix = [df1/du , df2/du]\n",
    "                  [df1/dv , df2/dv]\n",
    "    \n",
    "    @return: new matrix created.\n",
    "    \n",
    "    @xk_1: previous term\n",
    "    @f1: first function\n",
    "    @f2: second function\n",
    "\"\"\"\n",
    "\n",
    "def f_prime_2_eqs(xk_1, f1, f2):\n",
    "    res = np.array([[0., 0.], [0., 0.]])\n",
    "    symbols = [u, v]\n",
    "    tab_f = [f1, f2]\n",
    "    \n",
    "    for i in range(2):\n",
    "        for j in range(2):\n",
    "            res[i][j] = Jacobian_square_mat(symbols[i], tab_f[j]).subs(symbols[i], xk_1[j])\n",
    "    \n",
    "    return res"
   ]
  },
  {
   "cell_type": "code",
   "execution_count": 55,
   "id": "210f2f86",
   "metadata": {},
   "outputs": [],
   "source": [
    "\"\"\"\n",
    "    Create the term F(xk_1) wich is a vector of size 2 containing the evaluation\n",
    "    respectivly of f1 and f2.\n",
    "    \n",
    "    @return: the term F(xk_1)\n",
    "    \n",
    "    @xk_1 previous term\n",
    "    @fu: first expression in the inital system.\n",
    "    @fv: second expr in the initial system.\n",
    "    @vec_f: list containing f1 and f2\n",
    "    @i: index to recup the correct previous term of the function.\n",
    "\"\"\"\n",
    "\n",
    "def create_fxk_1(xk_1, vec_f):\n",
    "    res = np.array([0., 0.])\n",
    "    for i in range(2):\n",
    "        \n",
    "        res[i] = vec_f[i].evalf(subs={u: xk_1[0], v: xk_1[1]})\n",
    "    \n",
    "    return res"
   ]
  },
  {
   "cell_type": "code",
   "execution_count": 8,
   "id": "555f5876",
   "metadata": {},
   "outputs": [],
   "source": [
    "\"\"\"\n",
    "    Create a list containings the lists of points to build the u function\n",
    "    and the v function.\n",
    "    \n",
    "    @return: [ [ [t0, u0], [t1, u1], ..., [tn, un] ] , [ [t0, v0], [t1, v1], ..., [tn, vn] ] ]\n",
    "    \n",
    "    @time: list containing t0, t1, t2, ...\n",
    "    @fu: list containing u0, u1, u2, ...\n",
    "    @fv: list containing v0, v1, v2, ...\n",
    "\"\"\"\n",
    "\n",
    "def result_2_eq(time, fu, fv):\n",
    "    #Creation of our final list containing tuples like that: (time, function)\n",
    "    final_points_u = []\n",
    "    final_points_v = []\n",
    "    \n",
    "    for i in range(len(fu)):\n",
    "        final_points_u.append([time[i], fu[i]])\n",
    "        final_points_v.append([time[i], fv[i]])\n",
    "        \n",
    "    return [final_points_u, final_points_v]"
   ]
  },
  {
   "cell_type": "markdown",
   "id": "d227115d",
   "metadata": {},
   "source": [
    "## Solver for one differencial equation"
   ]
  },
  {
   "cell_type": "code",
   "execution_count": 9,
   "id": "90794ce4",
   "metadata": {},
   "outputs": [],
   "source": [
    "def Solver_one_equation(expr, u0):\n",
    "    t0 = 0\n",
    "    i = 1\n",
    "    f_uk = 1\n",
    "    uk_1 = u0\n",
    "    nb = 0\n",
    "    \n",
    "    #Each list is an axis.\n",
    "    #Time = [t0, t1, t2, ...., tn]\n",
    "    #Function = [u0, u1, u2, ...., un]\n",
    "    function = [u0]\n",
    "    time = [t0]\n",
    "    \n",
    "    first = True\n",
    "    \n",
    "    #Loop for the time\n",
    "    while(t0 < interval):\n",
    "        t0 += delta\n",
    "        nb = 0\n",
    "        #Newton's method\n",
    "        while(f_uk > Epsilon or nb < Nnewton):\n",
    "            \n",
    "            f_uk_1 = 0\n",
    "            f_uk_1_prime = 0\n",
    "            \n",
    "            # First step, we change our equation to f(x) = 0\n",
    "            f = create_f(u, uk_1, expr)\n",
    "            \n",
    "            # We recup the term f(uk-1)\n",
    "            if(first):\n",
    "                f_uk_1 = f.subs(u, uk_1)\n",
    "                first = False\n",
    "            \n",
    "            else:\n",
    "                f_uk_1 = f.subs(u, function[i-1])\n",
    "            \n",
    "            #We recup the term f'(uk_1)\n",
    "            f_uk_1_prime = Jacobian_one(f).subs(u, uk_1)\n",
    "\n",
    "            #Formula : uk = uk_1 - (f(uk_1) / f'(uk_1))\n",
    "            uk = uk_1 - (f_uk_1 / f_uk_1_prime)\n",
    "\n",
    "            #Check the approximation. If f_uk < Epsilon = good approximation\n",
    "            f_uk = f.subs(u, uk)\n",
    "            \n",
    "            uk_1 = uk\n",
    "            if(f_uk < Epsilon):\n",
    "                break\n",
    "        \n",
    "        #Update our 2 lists and indexes.\n",
    "        time.append(t0)\n",
    "        function.append(uk)\n",
    "        f_uk = 1\n",
    "        i += 1\n",
    "        nb += 1\n",
    "\n",
    "    return result_one_eq(time, function)"
   ]
  },
  {
   "cell_type": "markdown",
   "id": "25833987",
   "metadata": {},
   "source": [
    "## Solver for 2 differentials equations"
   ]
  },
  {
   "cell_type": "code",
   "execution_count": 176,
   "id": "6a974206",
   "metadata": {},
   "outputs": [],
   "source": [
    "def Solver_two_equations(u0, v0, f1, f2):\n",
    "    t0 = 0\n",
    "    f_xk = 1\n",
    "    uk_1 = u0\n",
    "    vk_1 = v0\n",
    "    xk_1 = np.array([u0, v0])\n",
    "    xn_1_global = np.array([u0, v0])\n",
    "    \n",
    "    #Each list is an axis.\n",
    "    #Time = [t0, t1, t2, ...., tn]\n",
    "    #Functions = [u0, u1, u2, ...., un]\n",
    "    fu = [u0]\n",
    "    fv = [v0]\n",
    "    time = [t0]\n",
    "    \n",
    "    #Loop for the time\n",
    "    while(t0 < interval):\n",
    "        t0 += delta\n",
    "        nb = 0\n",
    "        \n",
    "        #Newton's method\n",
    "        while(nb < Nnewton):\n",
    "            nb+=1\n",
    "            \n",
    "            # First step, we change our equation to F(x) = 0\n",
    "            vec_f = create_2_f(xn_1_global, f1, f2)\n",
    "            \n",
    "            #Creating F(xk-1)\n",
    "            F_xk_1 = create_fxk_1(xk_1, vec_f)\n",
    "            \n",
    "            #Creating F'(xk-1)\n",
    "            F_xk_1_prime = f_prime_2_eqs(xk_1, vec_f[0], vec_f[1])\n",
    "        \n",
    "            \n",
    "            #Formula : xk = xk_1 - tr(F'(xk_1)) * F(xk_1)\n",
    "            xk = xk_1 - np.dot(LA.inv(F_xk_1_prime), F_xk_1)\n",
    "          \n",
    "            #2 types \n",
    "            #f_xk = np.array([0., 0.])\n",
    "            #f_xk = np.array([vec_f[0].evalf(subs={u: xk[0], v: xk[1]}), vec_f[1].evalf(subs={u: xk[0], v: xk[1]})]) \n",
    "            #norm_f_xk = LA.norm(f_xk)\n",
    "            norm_xk = LA.norm(xk - xn_1_global)\n",
    "            if(norm_xk < Epsilon):\n",
    "                break\n",
    "            \n",
    "            xk_1 = xk\n",
    "        \n",
    "        #Update our 3 lists and indexes.\n",
    "        time.append(t0)\n",
    "        fu.append(xk[0])\n",
    "        fv.append(xk[1])\n",
    "        \n",
    "        xn_1_global = np.array([xk[0],xk[1]])\n",
    "        f_xk = 1        \n",
    "      \n",
    "    return result_2_eq(time, fu, fv)"
   ]
  },
  {
   "cell_type": "markdown",
   "id": "a225f521",
   "metadata": {},
   "source": [
    "## Unitary tests\n",
    "### Tests with only one equation.\n",
    "### exp(-x)"
   ]
  },
  {
   "cell_type": "code",
   "execution_count": 11,
   "id": "5730c8d0",
   "metadata": {},
   "outputs": [
    {
     "data": {
      "text/plain": [
       "matrix([[ 0.09, -0.01],\n",
       "        [ 0.01,  0.11]])"
      ]
     },
     "execution_count": 11,
     "metadata": {},
     "output_type": "execute_result"
    }
   ],
   "source": [
    "a = np.matrix([[11, 1], [-1, 9]])\n",
    "LA.inv(a)"
   ]
  },
  {
   "cell_type": "code",
   "execution_count": 164,
   "id": "669612aa",
   "metadata": {},
   "outputs": [
    {
     "data": {
      "image/png": "[encoded data removed]",
      "text/plain": [
       "<Figure size 432x288 with 1 Axes>"
      ]
     },
     "metadata": {
      "needs_background": "light"
     },
     "output_type": "display_data"
    },
    {
     "data": {
      "text/plain": [
       "<matplotlib.collections.PathCollection at 0x7fa4051fbe20>"
      ]
     },
     "execution_count": 164,
     "metadata": {},
     "output_type": "execute_result"
    },
    {
     "data": {
      "image/png": "[encoded data removed]",
      "text/plain": [
       "<Figure size 432x288 with 1 Axes>"
      ]
     },
     "metadata": {
      "needs_background": "light"
     },
     "output_type": "display_data"
    }
   ],
   "source": [
    "fig, ax = plt.subplots()\n",
    "x = np.linspace(0, 3, 50)\n",
    "y = np.exp(-x)\n",
    "ax.plot(x, y, label ='exp(-x)')\n",
    "plt.legend()  \n",
    "plt.suptitle('exp(-x)')\n",
    "plt.show()\n",
    "\n",
    "res = Solver_one_equation(-u, 1)\n",
    "\n",
    "\n",
    "absi = []\n",
    "for i in range(0, len(res)):\n",
    "    absi.append(res[i][0])\n",
    "coords = []\n",
    "for j in range(0, len(res)):\n",
    "    coords.append(res[j][1])\n",
    "    \n",
    "plt.ylim([0, 1])\n",
    "plt.title('Approximation de exp(-x)')\n",
    "plt.xlim([0, 3])\n",
    "plt.scatter(absi, coords)"
   ]
  },
  {
   "cell_type": "markdown",
   "id": "796b0564",
   "metadata": {},
   "source": [
    "## Tests with 2 equations\n",
    "\n",
    "### $\\frac{du}{dt} = 3u + 4v$\n",
    "### $\\frac{dv}{dt} = -4u + 3v$\n",
    "$u(t) = \\sin(4t) * \\exp(3t)$ ; $v(t) = \\cos(4t) * \\exp(3t)$"
   ]
  },
  {
   "cell_type": "code",
   "execution_count": 179,
   "id": "0d31e394",
   "metadata": {},
   "outputs": [
    {
     "data": {
      "image/png": "[encoded data removed]",
      "text/plain": [
       "<Figure size 432x288 with 1 Axes>"
      ]
     },
     "metadata": {
      "needs_background": "light"
     },
     "output_type": "display_data"
    },
    {
     "data": {
      "image/png": "[encoded data removed]",
      "text/plain": [
       "<Figure size 432x288 with 1 Axes>"
      ]
     },
     "metadata": {
      "needs_background": "light"
     },
     "output_type": "display_data"
    }
   ],
   "source": [
    "u0 = 0\n",
    "v0 = 1\n",
    "\n",
    "du = 3*u + 4*v\n",
    "dv = -4*u + 3*v\n",
    "\n",
    "res = Solver_two_equations(u0, v0, du, dv)\n",
    "\n",
    "time = []\n",
    "coords_u = []\n",
    "coords_v = []\n",
    "\n",
    "for i in range(0, len(res[0])):\n",
    "    time.append(res[0][i][0])\n",
    "    coords_u.append(res[0][i][1])\n",
    "    coords_v.append(res[1][i][1])\n",
    "\n",
    "fig = plt.figure()\n",
    "ax1 = fig.add_subplot(111)\n",
    "\n",
    "ax1.scatter(time, coords_u, s=10, label='approximtion de u')\n",
    "ax1.scatter(time, coords_v, s=10, label='approximation de v')\n",
    "plt.xlim([0, 3])\n",
    "plt.ylim([-4000, 6000])\n",
    "plt.legend(loc='upper left');\n",
    "plt.show()\n",
    "\n",
    "graph = plt.subplot()\n",
    "x = np.linspace(0, 3)\n",
    "y = np.sin(4*x) * np.exp(3*x)\n",
    "z = np.cos(4*x) * np.exp(3*x)\n",
    "graph.plot(x, y, label ='u(t) = sin(4t) * exp(3t)')\n",
    "graph.plot(x, z, label ='v(t) = cos(4t) * exp(3t)')\n",
    "plt.legend()  \n",
    "plt.show()\n"
   ]
  },
  {
   "cell_type": "markdown",
   "id": "850a2892",
   "metadata": {},
   "source": [
    "## Second Test\n",
    "### $\\frac{du}{dt} = v$\n",
    "### $\\frac{dv}{dt} = -u$\n",
    "$u(t) = \\cos(t) + \\sin(t)$  ;  $v(t) = \\cos(t) - \\sin(t)$"
   ]
  },
  {
   "cell_type": "code",
   "execution_count": 154,
   "id": "36f790e8",
   "metadata": {},
   "outputs": [
    {
     "data": {
      "image/png": "[encoded data removed]",
      "text/plain": [
       "<Figure size 432x288 with 1 Axes>"
      ]
     },
     "metadata": {
      "needs_background": "light"
     },
     "output_type": "display_data"
    },
    {
     "data": {
      "image/png": "[encoded data removed]",
      "text/plain": [
       "<Figure size 432x288 with 1 Axes>"
      ]
     },
     "metadata": {
      "needs_background": "light"
     },
     "output_type": "display_data"
    }
   ],
   "source": [
    "u0 = 1\n",
    "v0 = 1\n",
    "\n",
    "du = v\n",
    "dv = -u\n",
    "\n",
    "res = Solver_two_equations(u0, v0, du, dv)\n",
    "\n",
    "time = []\n",
    "coords_u = []\n",
    "coords_v = []\n",
    "\n",
    "for i in range(0, len(res[0])):\n",
    "    time.append(res[0][i][0])\n",
    "    coords_u.append(res[0][i][1])\n",
    "    coords_v.append(res[1][i][1])\n",
    "\n",
    "fig = plt.figure()\n",
    "ax1 = fig.add_subplot(111)\n",
    "\n",
    "ax1.scatter(time, coords_u, s=10, label='approximtion de u')\n",
    "ax1.scatter(time, coords_v, s=10, label='approximation de v')\n",
    "plt.xlim([0, 10])\n",
    "plt.ylim([-1.5, 1.5])\n",
    "plt.legend(loc='upper left');\n",
    "plt.show()\n",
    "\n",
    "graph = plt.subplot()\n",
    "x = np.linspace(0, 10)\n",
    "y = np.cos(x) + np.sin(x)\n",
    "z = np.cos(x) - np.sin(x)\n",
    "graph.plot(x, y, label ='u(t) = cos(t) + sin(t)')\n",
    "graph.plot(x, z, label ='v(t) = cos(t) - sin(t)')\n",
    "plt.legend()  \n",
    "plt.show()\n"
   ]
  },
  {
   "cell_type": "code",
   "execution_count": null,
   "id": "bee7dc6e",
   "metadata": {},
   "outputs": [],
   "source": []
  }
 ],
 "metadata": {
  "kernelspec": {
   "display_name": "Python 3 (ipykernel)",
   "language": "python",
   "name": "python3"
  },
  "language_info": {
   "codemirror_mode": {
    "name": "ipython",
    "version": 3
   },
   "file_extension": ".py",
   "mimetype": "text/x-python",
   "name": "python",
   "nbconvert_exporter": "python",
   "pygments_lexer": "ipython3",
   "version": "3.8.5"
  }
 },
 "nbformat": 4,
 "nbformat_minor": 5
}
