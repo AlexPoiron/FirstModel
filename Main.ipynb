{
 "cells": [
  {
   "cell_type": "markdown",
   "id": "6810229f",
   "metadata": {},
   "source": [
    "## Imports"
   ]
  },
  {
   "cell_type": "code",
   "execution_count": 3,
   "id": "c8684303",
   "metadata": {},
   "outputs": [
    {
     "name": "stdout",
     "output_type": "stream",
     "text": [
      "24\n",
      "0.0200000000000000\n",
      "f(x) = 6*x\n",
      "f(x) = 45*x**2 + 36*x\n"
     ]
    }
   ],
   "source": [
    "from ipynb.fs.full.Residual import *\n",
    "from ipynb.fs.full.Jacobian import *\n",
    "\n",
    "import numpy as np\n",
    "from numpy import linalg as LA\n",
    "import sympy as sp"
   ]
  },
  {
   "cell_type": "code",
   "execution_count": 4,
   "id": "b46d4f6e",
   "metadata": {},
   "outputs": [],
   "source": [
    "#Time variables\n",
    "interval = 10\n",
    "\n",
    "#Number represent how far we want to be precised.\n",
    "Epsilon = 10**-2"
   ]
  },
  {
   "cell_type": "code",
   "execution_count": 5,
   "id": "c7c1b157",
   "metadata": {},
   "outputs": [],
   "source": [
    "\"\"\"\n",
    "    FirstModel(vec, lg): return an approximation of zero of a \n",
    "    function following the Newton's method.\n",
    "    \n",
    "    params: - vec : a vector contaning equations (system).\n",
    "            - lg : vector's size.\n",
    "    \n",
    "    return: the approximation calculated.\n",
    "\"\"\"\n",
    "\n",
    "\n",
    "def FirstModel(vec, lg):\n",
    "    step = 0\n",
    "    \n",
    "    x0 = 1.0\n",
    "    tab_xk = np.arange(lg, dtype=np.float32)\n",
    "    tab_fxk = np.arange(lg, dtype=np.float32)\n",
    "    \n",
    "    #Loop for the time\n",
    "    while(step < interval):\n",
    "        \n",
    "        #Newton's method\n",
    "        while(x0 >= Epsilon):\n",
    "            for i in range(lg):\n",
    "                #Find the next x for each equations. \n",
    "                fxk = evaluate(x0, vec[i])\n",
    "                fxk_prime = evaluate(x0, Jacobian_one(vec[i]))\n",
    "                tab_xk[i] = x0 - (float(fxk) / float(fxk_prime))\n",
    "                \n",
    "                #Evaluate each x on their respective functions\n",
    "                tab_fxk[i] = evaluate(tab_xk[i], vec[i])\n",
    "                \n",
    "            \n",
    "            #Calculate the norm.\n",
    "            #norm = LA.norm(tab_fxk[0])\n",
    "            \"\"\"if (tab_fxk[0] - x0 < Epsilon):\n",
    "                return x0\n",
    "            else:\"\"\"\n",
    "            x0 -= tab_xk[i]\n",
    "            \n",
    "\n",
    "        step+=1\n",
    "    print(\"----\")\n",
    "    return tab_xk"
   ]
  },
  {
   "cell_type": "code",
   "execution_count": 6,
   "id": "c4ff1e0b",
   "metadata": {},
   "outputs": [
    {
     "name": "stdout",
     "output_type": "stream",
     "text": [
      "----\n",
      "[0.31391707]\n"
     ]
    }
   ],
   "source": [
    "vec = [3*x**3-2+6*x + x**2]\n",
    "res = FirstModel(vec, 1)\n",
    "print(res)"
   ]
  },
  {
   "cell_type": "code",
   "execution_count": null,
   "id": "cf3c2da8",
   "metadata": {},
   "outputs": [],
   "source": []
  }
 ],
 "metadata": {
  "kernelspec": {
   "display_name": "Python 3 (ipykernel)",
   "language": "python",
   "name": "python3"
  },
  "language_info": {
   "codemirror_mode": {
    "name": "ipython",
    "version": 3
   },
   "file_extension": ".py",
   "mimetype": "text/x-python",
   "name": "python",
   "nbconvert_exporter": "python",
   "pygments_lexer": "ipython3",
   "version": "3.8.5"
  }
 },
 "nbformat": 4,
 "nbformat_minor": 5
}
