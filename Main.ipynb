{
 "cells": [
  {
   "cell_type": "markdown",
   "id": "151b222f",
   "metadata": {},
   "source": [
    "## Imports"
   ]
  },
  {
   "cell_type": "code",
   "execution_count": 3,
   "id": "33685a45",
   "metadata": {},
   "outputs": [
    {
     "name": "stdout",
     "output_type": "stream",
     "text": [
      "24\n",
      "0.0200000000000000\n",
      "f(x) = 6*x\n",
      "f(x) = 45*x**2 + 36*x\n"
     ]
    }
   ],
   "source": [
    "from ipynb.fs.full.Residual import *\n",
    "from ipynb.fs.full.Jacobian import *\n",
    "\n",
    "import numpy as np\n",
    "from numpy import linalg as LA\n",
    "import sympy as sp"
   ]
  },
  {
   "cell_type": "markdown",
   "id": "ce099685",
   "metadata": {},
   "source": [
    "## Global Variables"
   ]
  },
  {
   "cell_type": "code",
   "execution_count": 66,
   "id": "ce4dabcd",
   "metadata": {},
   "outputs": [],
   "source": [
    "#Time variables\n",
    "interval = 10\n",
    "\n",
    "#Number represent how far we want to be precised.\n",
    "Epsilon = 10**-6"
   ]
  },
  {
   "cell_type": "markdown",
   "id": "97bc8b68",
   "metadata": {},
   "source": [
    "## Main Function"
   ]
  },
  {
   "cell_type": "code",
   "execution_count": 90,
   "id": "d90f0b7e",
   "metadata": {},
   "outputs": [],
   "source": [
    "\"\"\"\n",
    "    FirstModel(vec, lg): return an approximation of zero of a \n",
    "    function following the Newton's method.\n",
    "    \n",
    "    params: - vec : a vector contaning equations (system).\n",
    "            - lg : vector's size.\n",
    "            - x0 : initial x we want to start.\n",
    "    \n",
    "    return: the approximation calculated.\n",
    "\"\"\"\n",
    "\n",
    "\n",
    "def FirstModel(vec, lg, x0):\n",
    "    step = 0\n",
    "    approxim = 1\n",
    "    \n",
    "    tab_xk = np.arange(lg, dtype=np.float32)\n",
    "    tab_fxk = np.arange(lg, dtype=np.float32)\n",
    "    \n",
    "    #Loop for the time\n",
    "    while(step < interval):\n",
    "        \n",
    "        #Newton's method\n",
    "        while(approxim > Epsilon or approxim < -Epsilon):\n",
    "            for i in range(lg):\n",
    "                #Find the next x for each equations. \n",
    "                fxk = evaluate(x0, vec[i])\n",
    "                fxk_prime = evaluate(x0, Jacobian_one(vec[i]))\n",
    "                tab_xk[i] = x0 - (float(fxk) / float(fxk_prime))\n",
    "     \n",
    "            #Calculate the norm.\n",
    "            x0 = LA.norm(tab_xk)\n",
    "            approxim = evaluate(x0, vec[i])\n",
    "\n",
    "        step+=1\n",
    "    \n",
    "    print(\"The solution is : x = \", end='')\n",
    "    return x0"
   ]
  },
  {
   "cell_type": "code",
   "execution_count": 91,
   "id": "6f909d30",
   "metadata": {},
   "outputs": [
    {
     "name": "stdout",
     "output_type": "stream",
     "text": [
      "0.01\n",
      "-0.01\n"
     ]
    }
   ],
   "source": [
    "e = 10**-2\n",
    "print(e)\n",
    "print(-e)"
   ]
  },
  {
   "cell_type": "markdown",
   "id": "f03e2165",
   "metadata": {},
   "source": [
    "## Unitary tests"
   ]
  },
  {
   "cell_type": "code",
   "execution_count": 92,
   "id": "2ee6873c",
   "metadata": {},
   "outputs": [
    {
     "name": "stdout",
     "output_type": "stream",
     "text": [
      "The solution is : x = 2.2055693\n"
     ]
    }
   ],
   "source": [
    "vec = [2*x**2 - x**3 + 1]\n",
    "res = FirstModel(vec, 1, 3)\n",
    "print(res)"
   ]
  },
  {
   "cell_type": "code",
   "execution_count": null,
   "id": "c4b3c574",
   "metadata": {},
   "outputs": [],
   "source": []
  }
 ],
 "metadata": {
  "kernelspec": {
   "display_name": "Python 3 (ipykernel)",
   "language": "python",
   "name": "python3"
  },
  "language_info": {
   "codemirror_mode": {
    "name": "ipython",
    "version": 3
   },
   "file_extension": ".py",
   "mimetype": "text/x-python",
   "name": "python",
   "nbconvert_exporter": "python",
   "pygments_lexer": "ipython3",
   "version": "3.8.5"
  }
 },
 "nbformat": 4,
 "nbformat_minor": 5
}
