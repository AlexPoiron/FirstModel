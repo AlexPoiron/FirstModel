{
 "cells": [
  {
   "cell_type": "markdown",
   "id": "4ed52af5",
   "metadata": {},
   "source": [
    "## Imports"
   ]
  },
  {
   "cell_type": "code",
   "execution_count": 1,
   "id": "ed6db769",
   "metadata": {},
   "outputs": [],
   "source": [
    "from ipynb.fs.full.Jacobian import *\n",
    "\n",
    "import numpy as np\n",
    "from numpy import linalg as LA\n",
    "import sympy as sp\n",
    "\n",
    "import matplotlib.pyplot as plt\n",
    "import math"
   ]
  },
  {
   "cell_type": "markdown",
   "id": "66c3ccee",
   "metadata": {},
   "source": [
    "## Global Variables"
   ]
  },
  {
   "cell_type": "code",
   "execution_count": 2,
   "id": "2af324ac",
   "metadata": {},
   "outputs": [],
   "source": [
    "#Time variables\n",
    "interval = 10\n",
    "delta = 0.1\n",
    "\n",
    "#Numbers represent how far we want to be precised.\n",
    "Epsilon = 10**-2\n",
    "Nnewton = 10"
   ]
  },
  {
   "cell_type": "markdown",
   "id": "d227115d",
   "metadata": {},
   "source": [
    "## Solver for one differencial equation"
   ]
  },
  {
   "cell_type": "code",
   "execution_count": 3,
   "id": "6b05ecde",
   "metadata": {},
   "outputs": [],
   "source": [
    "def create_f(uk_1, expr):\n",
    "    return (u - uk_1)/delta - expr"
   ]
  },
  {
   "cell_type": "code",
   "execution_count": 4,
   "id": "90794ce4",
   "metadata": {},
   "outputs": [],
   "source": [
    "def Solver_one_equation(expr, u0):\n",
    "    t0 = 0\n",
    "    i = 1\n",
    "    f_uk = 1\n",
    "    uk_1 = 1\n",
    "    nb = 0\n",
    "    \n",
    "    #Each list is an axis.\n",
    "    #Time = [t0, t1, t2, ...., tn]\n",
    "    #Function = [u0, u1, u2, ...., un]\n",
    "    function = [u0]\n",
    "    time = [t0]\n",
    "    \n",
    "    first = True\n",
    "    \n",
    "    #Loop for the time\n",
    "    while(t0 < interval):\n",
    "        t0 += delta\n",
    "        \n",
    "        #Newton's method\n",
    "        while(f_uk > Epsilon or nb < Nnewton):\n",
    "            nb+=1\n",
    "            f_uk_1 = 0\n",
    "            f_uk_1_prime = 0\n",
    "            \n",
    "            # First step, we change our equation to f(x) = 0\n",
    "            f = create_f(uk_1, expr)\n",
    "            \n",
    "            # We recup the term f(uk-1)\n",
    "            if(first):\n",
    "                f_uk_1 = f.subs(u, uk_1)\n",
    "                first = False\n",
    "            \n",
    "            else:\n",
    "                f_uk_1 = f.subs(u, function[i-1])\n",
    "            \n",
    "            #We recup the term f'(uk_1)\n",
    "            f_uk_1_prime = Jacobian_one(f).subs(u, uk_1)\n",
    "\n",
    "            #Formula : uk = uk_1 - (f(uk_1) / f'(uk_1))\n",
    "            uk = uk_1 - (f_uk_1 / f_uk_1_prime)\n",
    "\n",
    "            #Check the approximation. If f_uk < Epsilon = good approximation\n",
    "            f_uk = f.subs(u, uk)\n",
    "            uk_1 = uk\n",
    "            if(f_uk < Epsilon):\n",
    "                break\n",
    "        \n",
    "        #Update our 2 lists and indexes.\n",
    "        time.append(t0)\n",
    "        function.append(uk)\n",
    "        f_uk = 1\n",
    "        i += 1\n",
    "    #Creation of our final list containing tuples like that: (time, function)\n",
    "    final_points = []\n",
    "    for i in range(len(function)):\n",
    "        final_points.append([time[i], function[i]])\n",
    "        \n",
    "    return final_points"
   ]
  },
  {
   "cell_type": "markdown",
   "id": "25833987",
   "metadata": {},
   "source": [
    "## Solver for 2 differencials equations"
   ]
  },
  {
   "cell_type": "code",
   "execution_count": 13,
   "id": "af1c8e60",
   "metadata": {},
   "outputs": [],
   "source": [
    "def inversion_matrix(A):\n",
    "    a = A[0][0]\n",
    "    b = A[0][1]\n",
    "    c = A[1][0]\n",
    "    d = A[1][1]\n",
    "    \n",
    "    det_A = a*d - b*c\n",
    "    res = [[d, -b], [-c, a]]\n",
    "    size_A = 2\n",
    "    \n",
    "    for i in range(size_A):\n",
    "        for j in range(size_A):\n",
    "            res[i][j] *= 1 / det_A\n",
    "    \n",
    "    return res"
   ]
  },
  {
   "cell_type": "code",
   "execution_count": 14,
   "id": "1e143bce",
   "metadata": {},
   "outputs": [
    {
     "data": {
      "text/plain": [
       "[[-2.0, 1.0], [1.5, -0.5]]"
      ]
     },
     "execution_count": 14,
     "metadata": {},
     "output_type": "execute_result"
    }
   ],
   "source": [
    "A = [[1, 2], [3, 4]]\n",
    "inversion_matrix(A)"
   ]
  },
  {
   "cell_type": "markdown",
   "id": "a225f521",
   "metadata": {},
   "source": [
    "## Unitary tests\n",
    "### Tests with only one equation."
   ]
  },
  {
   "cell_type": "markdown",
   "id": "83469f44",
   "metadata": {},
   "source": [
    "### exp(-x)"
   ]
  },
  {
   "cell_type": "code",
   "execution_count": 5,
   "id": "669612aa",
   "metadata": {},
   "outputs": [
    {
     "data": {
      "image/png": "[encoded data removed]",
      "text/plain": [
       "<Figure size 432x288 with 1 Axes>"
      ]
     },
     "metadata": {
      "needs_background": "light"
     },
     "output_type": "display_data"
    },
    {
     "data": {
      "text/plain": [
       "<matplotlib.collections.PathCollection at 0x7f3ab0d3a490>"
      ]
     },
     "execution_count": 5,
     "metadata": {},
     "output_type": "execute_result"
    },
    {
     "data": {
      "image/png": "[encoded data removed]",
      "text/plain": [
       "<Figure size 432x288 with 1 Axes>"
      ]
     },
     "metadata": {
      "needs_background": "light"
     },
     "output_type": "display_data"
    }
   ],
   "source": [
    "fig, ax = plt.subplots()\n",
    "x = np.linspace(0, 3, 50)\n",
    "y = np.exp(-x)\n",
    "ax.plot(x, y, label ='exp(-x)')\n",
    "plt.legend()  \n",
    "plt.suptitle('exp(-x)')\n",
    "plt.show()\n",
    "\n",
    "res = Solver_one_equation(-u, 1)\n",
    "\n",
    "absi = []\n",
    "for i in range(0, len(res)):\n",
    "    absi.append(res[i][0])\n",
    "coords = []\n",
    "for j in range(0, len(res)):\n",
    "    coords.append(res[j][1])\n",
    "    \n",
    "plt.ylim([0, 1])\n",
    "plt.title('Approximation de exp(-x)')\n",
    "plt.xlim([0, 3])\n",
    "plt.scatter(absi, coords)"
   ]
  },
  {
   "cell_type": "markdown",
   "id": "819dd859",
   "metadata": {},
   "source": [
    "### exp(x)"
   ]
  },
  {
   "cell_type": "code",
   "execution_count": null,
   "id": "50397822",
   "metadata": {},
   "outputs": [],
   "source": [
    "\n"
   ]
  },
  {
   "cell_type": "code",
   "execution_count": null,
   "id": "0d31e394",
   "metadata": {},
   "outputs": [],
   "source": []
  },
  {
   "cell_type": "code",
   "execution_count": null,
   "id": "e4faf669",
   "metadata": {},
   "outputs": [],
   "source": []
  }
 ],
 "metadata": {
  "kernelspec": {
   "display_name": "Python 3 (ipykernel)",
   "language": "python",
   "name": "python3"
  },
  "language_info": {
   "codemirror_mode": {
    "name": "ipython",
    "version": 3
   },
   "file_extension": ".py",
   "mimetype": "text/x-python",
   "name": "python",
   "nbconvert_exporter": "python",
   "pygments_lexer": "ipython3",
   "version": "3.8.5"
  }
 },
 "nbformat": 4,
 "nbformat_minor": 5
}
