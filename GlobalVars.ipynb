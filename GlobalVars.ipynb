{
 "cells": [
  {
   "cell_type": "markdown",
   "id": "04a77336",
   "metadata": {},
   "source": [
    "## Global Imports"
   ]
  },
  {
   "cell_type": "code",
   "execution_count": 1,
   "id": "081d25e7",
   "metadata": {},
   "outputs": [],
   "source": [
    "import numpy as np\n",
    "from numpy import linalg as LA\n",
    "import sympy as sp\n",
    "\n",
    "import matplotlib.pyplot as plt\n",
    "import math\n",
    "\n",
    "u = sp.Symbol('u', real=True)\n",
    "v = sp.Symbol('v', real=True)\n",
    "t = sp.Symbol('t', real=True)"
   ]
  },
  {
   "cell_type": "markdown",
   "id": "3cd3935a",
   "metadata": {},
   "source": [
    "## Global Variables"
   ]
  },
  {
   "cell_type": "code",
   "execution_count": 2,
   "id": "b4469f6a",
   "metadata": {},
   "outputs": [],
   "source": [
    "#Time variables\n",
    "interval = 10\n",
    "delta = 0.01\n",
    "\n",
    "#Numbers represent how far we want to be precised.\n",
    "Epsilon = 10**-5\n",
    "Nnewton = 10"
   ]
  },
  {
   "cell_type": "code",
   "execution_count": null,
   "id": "ef6fd0a4",
   "metadata": {},
   "outputs": [],
   "source": []
  }
 ],
 "metadata": {
  "kernelspec": {
   "display_name": "Python 3 (ipykernel)",
   "language": "python",
   "name": "python3"
  },
  "language_info": {
   "codemirror_mode": {
    "name": "ipython",
    "version": 3
   },
   "file_extension": ".py",
   "mimetype": "text/x-python",
   "name": "python",
   "nbconvert_exporter": "python",
   "pygments_lexer": "ipython3",
   "version": "3.8.5"
  }
 },
 "nbformat": 4,
 "nbformat_minor": 5
}
