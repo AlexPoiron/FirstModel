{
 "cells": [
  {
   "cell_type": "code",
   "execution_count": 1,
   "id": "f874e955",
   "metadata": {},
   "outputs": [
    {
     "name": "stdout",
     "output_type": "stream",
     "text": [
      "-0.0100000000000051\n"
     ]
    }
   ],
   "source": [
    "from ipynb.fs.full.Main import *"
   ]
  },
  {
   "cell_type": "markdown",
   "id": "4c53b432",
   "metadata": {},
   "source": [
    "## Unitary tests\n",
    "### Tests with only one equation.\n",
    "$S=\\begin{equation}\n",
    "\\left\\{ \n",
    "  \\begin{aligned}\n",
    "    \\frac{du}{dt}=-u\\\\\n",
    "  \\end{aligned}\n",
    "  \\right.\n",
    "\\end{equation}\n",
    "$"
   ]
  },
  {
   "cell_type": "code",
   "execution_count": 2,
   "id": "10ef0e0d",
   "metadata": {},
   "outputs": [
    {
     "data": {
      "text/plain": [
       "\"t = sp.Symbol('t', real=True)\\nu0 = 0\\nuse_trapezoidal = True\\ndu = t + 1\\nsymbol = t\\nres = Solver_one_equation_trigo(du, u0, use_trapezoidal, symbol)\\n\\n\\nabsi = []\\nfor i in range(0, len(res)):\\n    absi.append(res[i][0])\\ncoords = []\\nfor j in range(0, len(res)):\\n    coords.append(res[j][1])\\n    \\nplt.ylim([0, 20])\\nplt.title('Approximation de exp(-x)')\\nplt.xlim([0, 10])\\nplt.scatter(absi, coords, s=5)\\nplt.grid(True)\\n\\nfig, ax = plt.subplots()\\nx = np.linspace(0, 3, 50)\\ny = np.exp(-x)\\nax.plot(x, y, label ='exp(-x)')\\nax.grid(True)\\nplt.legend()  \\nplt.suptitle('exp(-x)')\\nplt.show()\""
      ]
     },
     "execution_count": 2,
     "metadata": {},
     "output_type": "execute_result"
    }
   ],
   "source": [
    "\"\"\"t = sp.Symbol('t', real=True)\n",
    "u0 = 0\n",
    "use_trapezoidal = True\n",
    "du = t + 1\n",
    "symbol = t\n",
    "res = Solver_one_equation_trigo(du, u0, use_trapezoidal, symbol)\n",
    "\n",
    "\n",
    "absi = []\n",
    "for i in range(0, len(res)):\n",
    "    absi.append(res[i][0])\n",
    "coords = []\n",
    "for j in range(0, len(res)):\n",
    "    coords.append(res[j][1])\n",
    "    \n",
    "plt.ylim([0, 20])\n",
    "plt.title('Approximation de exp(-x)')\n",
    "plt.xlim([0, 10])\n",
    "plt.scatter(absi, coords, s=5)\n",
    "plt.grid(True)\n",
    "\n",
    "fig, ax = plt.subplots()\n",
    "x = np.linspace(0, 3, 50)\n",
    "y = np.exp(-x)\n",
    "ax.plot(x, y, label ='exp(-x)')\n",
    "ax.grid(True)\n",
    "plt.legend()  \n",
    "plt.suptitle('exp(-x)')\n",
    "plt.show()\"\"\""
   ]
  },
  {
   "cell_type": "code",
   "execution_count": 3,
   "id": "02c8997a",
   "metadata": {},
   "outputs": [
    {
     "data": {
      "text/plain": [
       "\"t = sp.Symbol('t', real=True)\\n\\nu0 = 0\\ndu = sp.cos(u)\\nuse_trapezoidal = False\\nsymbol = u\\n\\nres = Solver_one_equation_trigo(du, u0, use_trapezoidal, symbol)\\nprint(res)\\n\\n\\nabsi = []\\nfor i in range(0, len(res)):\\n    absi.append(res[i][0])\\ncoords = []\\nfor j in range(0, len(res)):\\n    coords.append(res[j][1])\\n    \\nplt.ylim([-3, 3])\\nplt.title('Approximation de cos(t) + sin(t)')\\nplt.xlim([0, 10])\\nplt.scatter(absi, coords, s=5)\\nplt.grid(True)\\n\\n\\nfig, ax = plt.subplots()\\nx = np.linspace(0, 10, 50)\\ny = np.sin(x)\\nax.plot(x, y, label ='sin(t)')\\nax.grid(True)\\nplt.legend()  \\nplt.show()\""
      ]
     },
     "execution_count": 3,
     "metadata": {},
     "output_type": "execute_result"
    }
   ],
   "source": [
    "\"\"\"t = sp.Symbol('t', real=True)\n",
    "\n",
    "u0 = 0\n",
    "du = sp.cos(u)\n",
    "use_trapezoidal = False\n",
    "symbol = u\n",
    "\n",
    "res = Solver_one_equation_trigo(du, u0, use_trapezoidal, symbol)\n",
    "print(res)\n",
    "\n",
    "\n",
    "absi = []\n",
    "for i in range(0, len(res)):\n",
    "    absi.append(res[i][0])\n",
    "coords = []\n",
    "for j in range(0, len(res)):\n",
    "    coords.append(res[j][1])\n",
    "    \n",
    "plt.ylim([-3, 3])\n",
    "plt.title('Approximation de cos(t) + sin(t)')\n",
    "plt.xlim([0, 10])\n",
    "plt.scatter(absi, coords, s=5)\n",
    "plt.grid(True)\n",
    "\n",
    "\n",
    "fig, ax = plt.subplots()\n",
    "x = np.linspace(0, 10, 50)\n",
    "y = np.sin(x)\n",
    "ax.plot(x, y, label ='sin(t)')\n",
    "ax.grid(True)\n",
    "plt.legend()  \n",
    "plt.show()\"\"\"\n"
   ]
  },
  {
   "cell_type": "markdown",
   "id": "fda1ba30",
   "metadata": {},
   "source": [
    "## Tests with 2 equations\n",
    "\n",
    "$S=\\begin{equation}\n",
    "\\left\\{ \n",
    "  \\begin{aligned}\n",
    "    \\frac{du}{dt}&=&3u+4v\\\\\n",
    "    \\frac{dv}{dt}&=&-4u+3v\\\\\n",
    "  \\end{aligned}\n",
    "  \\right.\n",
    "\\end{equation}\n",
    "$\n",
    "\n",
    "$S=\\begin{equation}\n",
    "\\left\\{ \n",
    "  \\begin{aligned}\n",
    "    u(t)&=&sin(4t)e^{3t}\\\\\n",
    "    v(t)&=&cos(4t)e^{3t}\\\\\n",
    "  \\end{aligned}\n",
    "  \\right.\n",
    "\\end{equation}\n",
    "$"
   ]
  },
  {
   "cell_type": "code",
   "execution_count": 4,
   "id": "f4407632",
   "metadata": {},
   "outputs": [
    {
     "data": {
      "text/plain": [
       "\"res = Solver_two_equations(u0, v0, du, dv, use_trapezoidal)\\n\\ntime = []\\ncoords_u = []\\ncoords_v = []\\n\\nfor i in range(0, len(res[0])):\\n    time.append(res[0][i][0])\\n    coords_u.append(res[0][i][1])\\n    coords_v.append(res[1][i][1])\\n\\nfig = plt.figure()\\nax1 = fig.add_subplot(111)\\n\\nax1.scatter(time, coords_u, s=5, label='approximtion de u')\\nax1.scatter(time, coords_v, s=5, label='approximation de v')\\nax1.grid(True)\\nplt.xlim([0, 3])\\nplt.ylim([-4000, 6000])\\nplt.legend(loc='upper left');\\nplt.show()\\n\\ngraph = plt.subplot()\\nx = np.linspace(0, 3)\\ny = np.sin(4*x) * np.exp(3*x)\\nz = np.cos(4*x) * np.exp(3*x)\\ngraph.plot(x, y, label ='u(t) = sin(4t) * exp(3t)')\\ngraph.plot(x, z, label ='v(t) = cos(4t) * exp(3t)')\\ngraph.grid(True)\\nplt.legend()  \\nplt.show()\""
      ]
     },
     "execution_count": 4,
     "metadata": {},
     "output_type": "execute_result"
    }
   ],
   "source": [
    "u0 = 0\n",
    "v0 = 1\n",
    "\n",
    "du = 3*u + 4*v\n",
    "dv = -4*u + 3*v\n",
    "\n",
    "use_trapezoidal = True\n",
    "\n",
    "\"\"\"res = Solver_two_equations(u0, v0, du, dv, use_trapezoidal)\n",
    "\n",
    "time = []\n",
    "coords_u = []\n",
    "coords_v = []\n",
    "\n",
    "for i in range(0, len(res[0])):\n",
    "    time.append(res[0][i][0])\n",
    "    coords_u.append(res[0][i][1])\n",
    "    coords_v.append(res[1][i][1])\n",
    "\n",
    "fig = plt.figure()\n",
    "ax1 = fig.add_subplot(111)\n",
    "\n",
    "ax1.scatter(time, coords_u, s=5, label='approximtion de u')\n",
    "ax1.scatter(time, coords_v, s=5, label='approximation de v')\n",
    "ax1.grid(True)\n",
    "plt.xlim([0, 3])\n",
    "plt.ylim([-4000, 6000])\n",
    "plt.legend(loc='upper left');\n",
    "plt.show()\n",
    "\n",
    "graph = plt.subplot()\n",
    "x = np.linspace(0, 3)\n",
    "y = np.sin(4*x) * np.exp(3*x)\n",
    "z = np.cos(4*x) * np.exp(3*x)\n",
    "graph.plot(x, y, label ='u(t) = sin(4t) * exp(3t)')\n",
    "graph.plot(x, z, label ='v(t) = cos(4t) * exp(3t)')\n",
    "graph.grid(True)\n",
    "plt.legend()  \n",
    "plt.show()\"\"\""
   ]
  },
  {
   "cell_type": "markdown",
   "id": "884619b3",
   "metadata": {},
   "source": [
    "## Second Test\n",
    "$S=\\begin{equation}\n",
    "\\left\\{ \n",
    "  \\begin{aligned}\n",
    "    \\frac{du}{dt}&=&v\\\\\n",
    "    \\frac{dv}{dt}&=&-u\\\\\n",
    "  \\end{aligned}\n",
    "  \\right.\n",
    "\\end{equation}\n",
    "$\n",
    "\n",
    "$S=\\begin{equation}\n",
    "\\left\\{ \n",
    "  \\begin{aligned}\n",
    "    u(t)&=&cos(t)+sin(t)\\\\\n",
    "    v(t)&=&cos(t)-sin(t)\\\\\n",
    "  \\end{aligned}\n",
    "  \\right.\n",
    "\\end{equation}\n",
    "$"
   ]
  },
  {
   "cell_type": "code",
   "execution_count": 6,
   "id": "d6c2ee88",
   "metadata": {},
   "outputs": [
    {
     "name": "stdout",
     "output_type": "stream",
     "text": [
      "t0 = 0.01\n",
      "vecf = [100.0*u - 100.0 100.0*v - 100.0]\n",
      "fxk_1 = [1.51273122e-123 1.51273122e-123]\n",
      "fxk_1_prime = "
     ]
    },
    {
     "ename": "UnboundLocalError",
     "evalue": "local variable 'F_xk_1_prime' referenced before assignment",
     "output_type": "error",
     "traceback": [
      "\u001b[0;31m---------------------------------------------------------------------------\u001b[0m",
      "\u001b[0;31mUnboundLocalError\u001b[0m                         Traceback (most recent call last)",
      "\u001b[0;32m/tmp/ipykernel_33864/3361286593.py\u001b[0m in \u001b[0;36m<module>\u001b[0;34m\u001b[0m\n\u001b[1;32m      6\u001b[0m \u001b[0muse_trapezoidal\u001b[0m \u001b[0;34m=\u001b[0m \u001b[0;32mFalse\u001b[0m\u001b[0;34m\u001b[0m\u001b[0;34m\u001b[0m\u001b[0m\n\u001b[1;32m      7\u001b[0m \u001b[0;34m\u001b[0m\u001b[0m\n\u001b[0;32m----> 8\u001b[0;31m \u001b[0mres\u001b[0m \u001b[0;34m=\u001b[0m \u001b[0msolver_octave\u001b[0m\u001b[0;34m(\u001b[0m\u001b[0mu0\u001b[0m\u001b[0;34m,\u001b[0m \u001b[0mv0\u001b[0m\u001b[0;34m,\u001b[0m \u001b[0mdu\u001b[0m\u001b[0;34m,\u001b[0m \u001b[0mdv\u001b[0m\u001b[0;34m,\u001b[0m \u001b[0muse_trapezoidal\u001b[0m\u001b[0;34m)\u001b[0m\u001b[0;34m\u001b[0m\u001b[0;34m\u001b[0m\u001b[0m\n\u001b[0m\u001b[1;32m      9\u001b[0m \u001b[0;34m\u001b[0m\u001b[0m\n\u001b[1;32m     10\u001b[0m \u001b[0mtime\u001b[0m \u001b[0;34m=\u001b[0m \u001b[0;34m[\u001b[0m\u001b[0;34m]\u001b[0m\u001b[0;34m\u001b[0m\u001b[0;34m\u001b[0m\u001b[0m\n",
      "\u001b[0;32m~/Projects/FirstModel/Main.ipynb\u001b[0m in \u001b[0;36msolver_octave\u001b[0;34m(u0, v0, f1, f2, use_trapezoidal)\u001b[0m\n\u001b[1;32m    339\u001b[0m     \u001b[0;34m\"      \\n\"\u001b[0m\u001b[0;34m,\u001b[0m\u001b[0;34m\u001b[0m\u001b[0;34m\u001b[0m\u001b[0m\n\u001b[1;32m    340\u001b[0m     \u001b[0;34m\"    return result_solver(time, fu, fv, x, y)\"\u001b[0m\u001b[0;34m\u001b[0m\u001b[0;34m\u001b[0m\u001b[0m\n\u001b[0;32m--> 341\u001b[0;31m    ]\n\u001b[0m\u001b[1;32m    342\u001b[0m   },\n\u001b[1;32m    343\u001b[0m   {\n",
      "\u001b[0;31mUnboundLocalError\u001b[0m: local variable 'F_xk_1_prime' referenced before assignment"
     ]
    }
   ],
   "source": [
    "u0 = 1\n",
    "v0 = 1\n",
    "\n",
    "du = v\n",
    "dv = -u\n",
    "use_trapezoidal = False\n",
    "\n",
    "res = solver_octave(u0, v0, du, dv, use_trapezoidal)\n",
    "\n",
    "time = []\n",
    "coords_u = []\n",
    "coords_v = []\n",
    "\n",
    "for i in range(0, len(res[0])):\n",
    "    time.append(res[0][i][0])\n",
    "    coords_u.append(res[0][i][1])\n",
    "    coords_v.append(res[1][i][1])\n",
    "\n",
    "fig = plt.figure()\n",
    "ax1 = fig.add_subplot(111)\n",
    "\n",
    "ax1.scatter(time, coords_u, s=10, label='approximtion de u')\n",
    "ax1.scatter(time, coords_v, s=10, label='approximation de v')\n",
    "plt.xlim([0, 10])\n",
    "plt.ylim([-10, 10])\n",
    "plt.legend(loc='upper left');\n",
    "plt.show()\n",
    "\n",
    "graph = plt.subplot()\n",
    "x = np.linspace(0, 9)\n",
    "y = np.cos(x) + np.sin(x)\n",
    "z = np.cos(x) - np.sin(x)\n",
    "graph.plot(x, y, label ='u(t) = cos(t) + sin(t)')\n",
    "graph.plot(x, z, label ='v(t) = cos(t) - sin(t)')\n",
    "plt.legend(loc='upper left')  \n",
    "plt.show()"
   ]
  },
  {
   "cell_type": "markdown",
   "id": "4a636c71",
   "metadata": {},
   "source": [
    "## Tests system with 4 equations\n",
    "$S=\\begin{equation}\n",
    "\\left\\{ \n",
    "  \\begin{aligned}\n",
    "    \\frac{du}{dt}&=&-u+v\\\\\n",
    "    \\frac{dv}{dt}&=&v-u\\\\\n",
    "    x&=&u+v-y\\\\\n",
    "    y&=&uv\\\\\n",
    "  \\end{aligned}\n",
    "  \\right.\n",
    "\\end{equation}\n",
    "$\n",
    "\n",
    "$S=\\begin{equation}\n",
    "\\left\\{ \n",
    "  \\begin{aligned}\n",
    "    u(t)&=&2-t\\\\\n",
    "    v(t)&=&1-t\\\\\n",
    "    x(t)&=&-t^2+t+1\\\\\n",
    "    y(t)&=&t^2-3t+2\\\\\n",
    "  \\end{aligned}\n",
    "  \\right.\n",
    "\\end{equation}\n",
    "$\n"
   ]
  },
  {
   "cell_type": "code",
   "execution_count": null,
   "id": "7b528bb7",
   "metadata": {},
   "outputs": [],
   "source": [
    "u0 = 2\n",
    "v0 = 1\n",
    "\n",
    "du = -u + v\n",
    "dv = v - u\n",
    "y = u * v\n",
    "x = u + v - y\n",
    "\n",
    "use_trapezoidal = True\n",
    "\n",
    "res = Solver_4_equations(u0, v0, du, dv, use_trapezoidal)\n",
    "\n",
    "time = []\n",
    "coords_u = []\n",
    "coords_v = []\n",
    "coords_x = []\n",
    "coords_y = []\n",
    "\n",
    "for i in range(0, len(res[0])):\n",
    "    time.append(res[0][i][0])\n",
    "    coords_u.append(res[0][i][1])\n",
    "    coords_v.append(res[1][i][1])\n",
    "    coords_x.append(res[2][i][1])\n",
    "    coords_y.append(res[3][i][1])\n",
    "\n",
    "\n",
    "fig = plt.figure()\n",
    "ax1 = fig.add_subplot(111)\n",
    "\n",
    "ax1.scatter(time, coords_u, s=5, label='approximtion de u')\n",
    "ax1.scatter(time, coords_v, s=5, label='approximation de v')\n",
    "ax1.scatter(time, coords_x, s=5, label='approximation de x')\n",
    "ax1.scatter(time, coords_y, s=5, label='approximation de y')\n",
    "plt.xlim([0, 4])\n",
    "plt.ylim([-10, 10])\n",
    "ax1.grid(True)\n",
    "plt.legend(loc='lower right');\n",
    "plt.show()\n",
    "\n",
    "graph = plt.subplot()\n",
    "t = np.linspace(0, 4)\n",
    "u = 2 - t\n",
    "v = 1 - t\n",
    "x_ = -t**2 + t + 1\n",
    "y_ = t**2 - 3*t + 2\n",
    "graph.plot(t, u, label ='u(t) = 2 - t')\n",
    "graph.plot(t, v, label ='v(t) = 1 - t')\n",
    "graph.plot(t, x_, label ='x(t) = -t^2 + t + 1')\n",
    "graph.plot(t, y_, label ='y(t) = t^2 - 3t + 2')\n",
    "graph.grid(True)\n",
    "plt.legend(loc='lower right')  \n",
    "plt.show()"
   ]
  },
  {
   "cell_type": "code",
   "execution_count": null,
   "id": "5c22d77a",
   "metadata": {},
   "outputs": [],
   "source": [
    "np.round(1.2287262726, decimals=2)"
   ]
  },
  {
   "cell_type": "code",
   "execution_count": null,
   "id": "c9f636e7",
   "metadata": {},
   "outputs": [],
   "source": []
  }
 ],
 "metadata": {
  "kernelspec": {
   "display_name": "Python 3 (ipykernel)",
   "language": "python",
   "name": "python3"
  },
  "language_info": {
   "codemirror_mode": {
    "name": "ipython",
    "version": 3
   },
   "file_extension": ".py",
   "mimetype": "text/x-python",
   "name": "python",
   "nbconvert_exporter": "python",
   "pygments_lexer": "ipython3",
   "version": "3.8.5"
  }
 },
 "nbformat": 4,
 "nbformat_minor": 5
}
