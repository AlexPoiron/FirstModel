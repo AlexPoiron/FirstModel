{
 "cells": [
  {
   "cell_type": "markdown",
   "metadata": {},
   "source": [
    "## Import and Initialisation"
   ]
  },
  {
   "cell_type": "code",
   "execution_count": 24,
   "metadata": {},
   "outputs": [],
   "source": [
    "import sympy as sy\n",
    "x = sy.Symbol('x')"
   ]
  },
  {
   "cell_type": "markdown",
   "metadata": {},
   "source": [
    "## Jacobian's functions\n",
    "\n",
    "In these 2 functions, we use Sympy to calculate derivates."
   ]
  },
  {
   "cell_type": "code",
   "execution_count": 25,
   "metadata": {},
   "outputs": [],
   "source": [
    "def Jacobian_one(function):\n",
    "    return sy.diff(function)"
   ]
  },
  {
   "cell_type": "code",
   "execution_count": 26,
   "metadata": {},
   "outputs": [],
   "source": [
    "def Jacobian_vec(vec):\n",
    "    res = [0] * 4\n",
    "    for i in range(4):\n",
    "        res[i] = sy.diff(vec[i])\n",
    "    \n",
    "    return res"
   ]
  },
  {
   "cell_type": "markdown",
   "metadata": {},
   "source": [
    "# Unitary tests\n",
    "\n",
    "## Jacobian_one"
   ]
  },
  {
   "cell_type": "code",
   "execution_count": 27,
   "metadata": {},
   "outputs": [
    {
     "name": "stdout",
     "output_type": "stream",
     "text": [
      "f(x) = 6*x\n"
     ]
    }
   ],
   "source": [
    "fx = 3*x**2\n",
    "res = Jacobian_one(fx)\n",
    "print(\"f(x) = \", end = '')\n",
    "print(res)"
   ]
  },
  {
   "cell_type": "code",
   "execution_count": 28,
   "metadata": {},
   "outputs": [
    {
     "name": "stdout",
     "output_type": "stream",
     "text": [
      "f(x) = 45*x**2 + 36*x\n"
     ]
    }
   ],
   "source": [
    "fx = 3*(5*x**3 + 6*x**2)\n",
    "res = Jacobian_one(fx)\n",
    "print(\"f(x) = \", end = '')\n",
    "print(res)"
   ]
  },
  {
   "cell_type": "markdown",
   "metadata": {},
   "source": [
    "## Jacobian_vec"
   ]
  },
  {
   "cell_type": "code",
   "execution_count": 31,
   "metadata": {},
   "outputs": [
    {
     "name": "stdout",
     "output_type": "stream",
     "text": [
      "Jacobian vector = \n",
      "[\n",
      "  u' = 10*x**4 + 4*x**3 - 8*x\n",
      "  v' = 4*x**3 - 3\n",
      "  x' = 10*x**4 + 8*x**3 - 8*x + (3 - 4*x**3)*(2*x**5 + x**4 - 4*x**2) + (-x**4 + 3*x)*(10*x**4 + 4*x**3 - 8*x) - 3\n",
      "  y' = (4*x**3 - 3)*(2*x**5 + x**4 - 4*x**2) + (x**4 - 3*x)*(10*x**4 + 4*x**3 - 8*x)\n",
      "]\n"
     ]
    }
   ],
   "source": [
    "u = 2*x**5 + x**4 - 4*x**2\n",
    "v = x**4 - 3*x\n",
    "y = u*v\n",
    "x_ = u + v - y\n",
    "vec = [u, v, x_, y]\n",
    "res = Jacobian_vec(vec)\n",
    "print(\"Jacobian vector = \")\n",
    "print(\"[\")\n",
    "print(\"  u' = \", end = '')\n",
    "print(res[0])\n",
    "print(\"  v' = \", end = '')\n",
    "print(res[1])\n",
    "print(\"  x' = \", end = '')\n",
    "print(res[2])\n",
    "print(\"  y' = \", end = '')\n",
    "print(res[3])\n",
    "print(\"]\")"
   ]
  },
  {
   "cell_type": "code",
   "execution_count": null,
   "metadata": {},
   "outputs": [],
   "source": []
  }
 ],
 "metadata": {
  "kernelspec": {
   "display_name": "Python 3 (ipykernel)",
   "language": "python",
   "name": "python3"
  },
  "language_info": {
   "codemirror_mode": {
    "name": "ipython",
    "version": 3
   },
   "file_extension": ".py",
   "mimetype": "text/x-python",
   "name": "python",
   "nbconvert_exporter": "python",
   "pygments_lexer": "ipython3",
   "version": "3.8.5"
  }
 },
 "nbformat": 4,
 "nbformat_minor": 4
}
