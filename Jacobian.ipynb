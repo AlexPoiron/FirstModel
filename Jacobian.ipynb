{
 "cells": [
  {
   "cell_type": "markdown",
   "metadata": {},
   "source": [
    "## Import and Initialisation"
   ]
  },
  {
   "cell_type": "code",
   "execution_count": 1,
   "metadata": {},
   "outputs": [],
   "source": [
    "from sympy import *\n",
    "x = symbols('x')"
   ]
  },
  {
   "cell_type": "markdown",
   "metadata": {},
   "source": [
    "## Jacobian's functions\n",
    "\n",
    "In these 2 functions, we use Sympy to calculate derivates."
   ]
  },
  {
   "cell_type": "code",
   "execution_count": 8,
   "metadata": {},
   "outputs": [],
   "source": [
    "def Jacobian_one(function):\n",
    "    return diff(function)"
   ]
  },
  {
   "cell_type": "code",
   "execution_count": 9,
   "metadata": {},
   "outputs": [],
   "source": [
    "def Jacobian_vec(vec):\n",
    "    res = [0] * 4\n",
    "    for i in range(4):\n",
    "        res[i] = diff(vec[i])\n",
    "    \n",
    "    return res"
   ]
  },
  {
   "cell_type": "markdown",
   "metadata": {},
   "source": [
    "# Unitary tests\n",
    "\n",
    "## Jacobian_one"
   ]
  },
  {
   "cell_type": "code",
   "execution_count": 10,
   "metadata": {},
   "outputs": [
    {
     "name": "stdout",
     "output_type": "stream",
     "text": [
      "f(x) = 6*x\n"
     ]
    }
   ],
   "source": [
    "fx = 3*x**2\n",
    "res = Jacobian_one(fx)\n",
    "print(\"f(x) = \", end = '')\n",
    "print(res)"
   ]
  },
  {
   "cell_type": "code",
   "execution_count": 11,
   "metadata": {},
   "outputs": [
    {
     "name": "stdout",
     "output_type": "stream",
     "text": [
      "f(x) = 45*x**2 + 36*x\n"
     ]
    }
   ],
   "source": [
    "fx = 3*(5*x**3 + 6*x**2)\n",
    "res = Jacobian_one(fx)\n",
    "print(\"f(x) = \", end = '')\n",
    "print(res)"
   ]
  },
  {
   "cell_type": "markdown",
   "metadata": {},
   "source": [
    "## Jacobian_vec"
   ]
  },
  {
   "cell_type": "code",
   "execution_count": 12,
   "metadata": {},
   "outputs": [
    {
     "name": "stdout",
     "output_type": "stream",
     "text": [
      "Jacobian vector = \n",
      "[\n",
      "  u' = 10*x**4 + 4*x**3 - 8*x\n",
      "  v' = 4*x**3 - 3\n",
      "  x' = 10*x**4 + 8*x**3 - 8*x + (3 - 4*x**3)*(2*x**5 + x**4 - 4*x**2) + (-x**4 + 3*x)*(10*x**4 + 4*x**3 - 8*x) - 3\n",
      "  y' = (4*x**3 - 3)*(2*x**5 + x**4 - 4*x**2) + (x**4 - 3*x)*(10*x**4 + 4*x**3 - 8*x)\n",
      "]\n"
     ]
    }
   ],
   "source": [
    "u = 2*x**5 + x**4 - 4*x**2\n",
    "v = x**4 - 3*x\n",
    "y = u*v\n",
    "x_ = u + v - y\n",
    "vec = [u, v, x_, y]\n",
    "res = Jacobian_vec(vec)\n",
    "print(\"Jacobian vector = \")\n",
    "print(\"[\")\n",
    "print(\"  u' = \", end = '')\n",
    "print(res[0])\n",
    "print(\"  v' = \", end = '')\n",
    "print(res[1])\n",
    "print(\"  x' = \", end = '')\n",
    "print(res[2])\n",
    "print(\"  y' = \", end = '')\n",
    "print(res[3])\n",
    "print(\"]\")"
   ]
  },
  {
   "cell_type": "code",
   "execution_count": 7,
   "metadata": {},
   "outputs": [
    {
     "name": "stdout",
     "output_type": "stream",
     "text": [
      "Jacobian vector = \n",
      "[\n",
      "  u' = 6*x**5 - 2*x - 1/(3*x**2)\n",
      "  v' = 4*x**3 - 3\n",
      "  x' = 6*x**5 + 4*x**3 - 2*x + (3 - 4*x**3)*(x**6 - x**2 + 1/(3*x)) + (-x**4 + 3*x)*(6*x**5 - 2*x - 1/(3*x**2)) - 3 - 1/(3*x**2)\n",
      "  y' = (4*x**3 - 3)*(x**6 - x**2 + 1/(3*x)) + (x**4 - 3*x)*(6*x**5 - 2*x - 1/(3*x**2))\n",
      "]\n"
     ]
    }
   ],
   "source": [
    "u = x**6 + (x**4)/(3*x**5) - x**2\n",
    "v = x**4 - 3*x\n",
    "y = u*v\n",
    "x_ = u + v - y\n",
    "vec = [u, v, x_, y]\n",
    "res = Jacobian_vec(vec)\n",
    "print(\"Jacobian vector = \")\n",
    "print(\"[\")\n",
    "print(\"  u' = \", end = '')\n",
    "print(res[0])\n",
    "print(\"  v' = \", end = '')\n",
    "print(res[1])\n",
    "print(\"  x' = \", end = '')\n",
    "print(res[2])\n",
    "print(\"  y' = \", end = '')\n",
    "print(res[3])\n",
    "print(\"]\")"
   ]
  },
  {
   "cell_type": "code",
   "execution_count": null,
   "metadata": {},
   "outputs": [],
   "source": []
  }
 ],
 "metadata": {
  "kernelspec": {
   "display_name": "Python 3 (ipykernel)",
   "language": "python",
   "name": "python3"
  },
  "language_info": {
   "codemirror_mode": {
    "name": "ipython",
    "version": 3
   },
   "file_extension": ".py",
   "mimetype": "text/x-python",
   "name": "python",
   "nbconvert_exporter": "python",
   "pygments_lexer": "ipython3",
   "version": "3.8.5"
  }
 },
 "nbformat": 4,
 "nbformat_minor": 4
}
